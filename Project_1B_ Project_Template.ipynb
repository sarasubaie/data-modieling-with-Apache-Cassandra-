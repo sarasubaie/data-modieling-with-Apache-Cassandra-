{
 "cells": [
  {
   "cell_type": "markdown",
   "metadata": {
    "editable": true
   },
   "source": [
    "# Part I. ETL Pipeline for Pre-Processing the Files"
   ]
  },
  {
   "cell_type": "markdown",
   "metadata": {
    "editable": true
   },
   "source": [
    "## PLEASE RUN THE FOLLOWING CODE FOR PRE-PROCESSING THE FILES"
   ]
  },
  {
   "cell_type": "markdown",
   "metadata": {
    "editable": true
   },
   "source": [
    "#### Import Python packages "
   ]
  },
  {
   "cell_type": "code",
   "execution_count": 2,
   "metadata": {
    "editable": true
   },
   "outputs": [],
   "source": [
    "# Import Python packages \n",
    "import pandas as pd\n",
    "import cassandra\n",
    "import re\n",
    "import os\n",
    "import glob\n",
    "import numpy as np\n",
    "import json\n",
    "import csv"
   ]
  },
  {
   "cell_type": "markdown",
   "metadata": {
    "editable": true
   },
   "source": [
    "#### Creating list of filepaths to process original event csv data files"
   ]
  },
  {
   "cell_type": "code",
   "execution_count": 9,
   "metadata": {
    "editable": true
   },
   "outputs": [
    {
     "name": "stdout",
     "output_type": "stream",
     "text": [
      "/home/workspace\n"
     ]
    }
   ],
   "source": [
    "# checking your current working directory\n",
    "print(os.getcwd())\n",
    "\n",
    "# Get your current folder and subfolder event data\n",
    "filepath = os.getcwd() + '/event_data'\n",
    "\n",
    "# Create a for loop to create a list of files and collect each filepath\n",
    "for root, dirs, files in os.walk(filepath):\n",
    "    \n",
    "# join the file path and roots with the subdirectories using glob\n",
    "    file_path_list = glob.glob(os.path.join(root,'*.csv'))\n",
    "    #print(file_path_list)"
   ]
  },
  {
   "cell_type": "code",
   "execution_count": 10,
   "metadata": {
    "editable": true
   },
   "outputs": [
    {
     "data": {
      "text/plain": [
       "['/home/workspace/event_data/2018-11-30-events.csv',\n",
       " '/home/workspace/event_data/2018-11-23-events.csv',\n",
       " '/home/workspace/event_data/2018-11-22-events.csv',\n",
       " '/home/workspace/event_data/2018-11-29-events.csv',\n",
       " '/home/workspace/event_data/2018-11-11-events.csv']"
      ]
     },
     "execution_count": 10,
     "metadata": {},
     "output_type": "execute_result"
    }
   ],
   "source": [
    "file_path_list[:5]"
   ]
  },
  {
   "cell_type": "markdown",
   "metadata": {
    "editable": true
   },
   "source": [
    "#### Processing the files to create the data file csv that will be used for Apache Casssandra tables"
   ]
  },
  {
   "cell_type": "code",
   "execution_count": 11,
   "metadata": {
    "editable": true
   },
   "outputs": [],
   "source": [
    "# initiating an empty list of rows that will be generated from each file\n",
    "full_data_rows_list = [] \n",
    "    \n",
    "# for every filepath in the file path list \n",
    "for f in file_path_list:\n",
    "\n",
    "# reading csv file \n",
    "    with open(f, 'r', encoding = 'utf8', newline='') as csvfile: \n",
    "        # creating a csv reader object \n",
    "        csvreader = csv.reader(csvfile) \n",
    "        next(csvreader)\n",
    "        \n",
    " # extracting each data row one by one and append it        \n",
    "        for line in csvreader:\n",
    "            #print(line)\n",
    "            full_data_rows_list.append(line) \n",
    "            \n",
    "# uncomment the code below if you would like to get total number of rows \n",
    "#print(len(full_data_rows_list))\n",
    "# uncomment the code below if you would like to check to see what the list of event data rows will look like\n",
    "#print(full_data_rows_list)\n",
    "\n",
    "# creating a smaller event data csv file called event_datafile_full csv that will be used to insert data into the \\\n",
    "# Apache Cassandra tables\n",
    "csv.register_dialect('myDialect', quoting=csv.QUOTE_ALL, skipinitialspace=True)\n",
    "\n",
    "with open('event_datafile_new.csv', 'w', encoding = 'utf8', newline='') as f:\n",
    "    writer = csv.writer(f, dialect='myDialect')\n",
    "    writer.writerow(['artist','firstName','gender','itemInSession','lastName','length',\\\n",
    "                'level','location','sessionId','song','userId'])\n",
    "    for row in full_data_rows_list:\n",
    "        if (row[0] == ''):\n",
    "            continue\n",
    "        writer.writerow((row[0], row[2], row[3], row[4], row[5], row[6], row[7], row[8], row[12], row[13], row[16]))\n"
   ]
  },
  {
   "cell_type": "code",
   "execution_count": 12,
   "metadata": {
    "editable": true
   },
   "outputs": [
    {
     "name": "stdout",
     "output_type": "stream",
     "text": [
      "6821\n"
     ]
    }
   ],
   "source": [
    "# check the number of rows in your csv file\n",
    "with open('event_datafile_new.csv', 'r', encoding = 'utf8') as f:\n",
    "    print(sum(1 for line in f))"
   ]
  },
  {
   "cell_type": "markdown",
   "metadata": {
    "editable": true
   },
   "source": [
    "# Part II. Complete the Apache Cassandra coding portion of your project. \n",
    "\n",
    "## Now you are ready to work with the CSV file titled <font color=red>event_datafile_new.csv</font>, located within the Workspace directory.  The event_datafile_new.csv contains the following columns: \n",
    "- artist \n",
    "- firstName of user\n",
    "- gender of user\n",
    "- item number in session\n",
    "- last name of user\n",
    "- length of the song\n",
    "- level (paid or free song)\n",
    "- location of the user\n",
    "- sessionId\n",
    "- song title\n",
    "- userId\n",
    "\n",
    "The image below is a screenshot of what the denormalized data should appear like in the <font color=red>**event_datafile_new.csv**</font> after the code above is run:<br>\n",
    "\n",
    "<img src=\"images/image_event_datafile_new.jpg\">"
   ]
  },
  {
   "cell_type": "markdown",
   "metadata": {
    "editable": true
   },
   "source": [
    "## Begin writing your Apache Cassandra code in the cells below"
   ]
  },
  {
   "cell_type": "markdown",
   "metadata": {
    "editable": true
   },
   "source": [
    "#### Creating a Cluster"
   ]
  },
  {
   "cell_type": "code",
   "execution_count": 13,
   "metadata": {
    "editable": true
   },
   "outputs": [],
   "source": [
    "from cassandra.cluster import Cluster\n",
    "cluster=Cluster()\n",
    "\n",
    "session = cluster.connect()"
   ]
  },
  {
   "cell_type": "markdown",
   "metadata": {
    "editable": true
   },
   "source": [
    "#### Create Keyspace"
   ]
  },
  {
   "cell_type": "code",
   "execution_count": 14,
   "metadata": {
    "editable": true
   },
   "outputs": [],
   "source": [
    "try:\n",
    "    session.execute(\"\"\"\n",
    "    CREATE KEYSPACE IF NOT EXISTS project\n",
    "    WITH REPLICATION=\n",
    "    { 'class' : 'SimpleStrategy', 'replication_factor' : 1 }\n",
    "    \n",
    "    \"\"\")\n",
    "except Exception as e:\n",
    "    print(e)"
   ]
  },
  {
   "cell_type": "markdown",
   "metadata": {
    "editable": true
   },
   "source": [
    "#### Set Keyspace"
   ]
  },
  {
   "cell_type": "code",
   "execution_count": 15,
   "metadata": {
    "editable": true
   },
   "outputs": [],
   "source": [
    "session.set_keyspace('project')"
   ]
  },
  {
   "cell_type": "markdown",
   "metadata": {
    "editable": true
   },
   "source": [
    "### Now we need to create tables to run the following queries. Remember, with Apache Cassandra you model the database tables on the queries you want to run."
   ]
  },
  {
   "cell_type": "markdown",
   "metadata": {
    "editable": true
   },
   "source": [
    "## Create queries to ask the following three questions of the data\n",
    "\n",
    "### 1. Give me the artist, song title and song's length in the music app history that was heard during  sessionId = 338, and itemInSession  = 4\n",
    "SELECT\n",
    "    artist_name,\n",
    "    song_title,\n",
    "    song_length\n",
    "FROM \n",
    "  SONGS_ITEMSETTION\n",
    "WHERE \n",
    "    seetion_id = 338   \n",
    "AND \n",
    "    item = 4\n",
    "\n",
    "### 2. Give me only the following: name of artist, song (sorted by itemInSession) and user (first and last name) for userid = 10, sessionid = 182\n",
    "SELECT\n",
    "\n",
    "   artist_name,\n",
    "   song_title,\n",
    "   first_name,\n",
    "   last_name\n",
    "   \n",
    "   \n",
    "FROM \n",
    "  songs_playlist\n",
    "WHERE \n",
    "     userid= 10\n",
    "AND \n",
    "     sesstion_id= 182\n",
    "ORDER BY\n",
    "     item DESC\n",
    "    \n",
    "\n",
    "### 3. Give me every user name (first and last) in my music app history who listened to the song 'All Hands Against His Own'\n",
    "\n",
    "SELECT\n",
    "\n",
    "   userid,\n",
    "   first_name,\n",
    "   last_name\n",
    "   \n",
    "FROM \n",
    "  SONGS_USERS\n",
    "WHERE \n",
    "     song_title= 'All Hands Against His Own'   \n",
    "\n"
   ]
  },
  {
   "cell_type": "code",
   "execution_count": 16,
   "metadata": {
    "editable": true
   },
   "outputs": [],
   "source": [
    "##This statement creates the SONGS_ITEMSETTION with a primary key ( seetion_id, item ) to answer the question 1\n",
    "##As the primary key has two components, the first component is considered a partition key \"seetion_id\"\n",
    "##and the second component becomes the cluster key \"item\"\n",
    "## we couldnot appling  the filters in the question without using partion keys\n",
    "##Clustering columns order data within a partition\n",
    "query1 = \"CREATE TABLE IF NOT EXISTS SONGS_ITEMSETTION\"\n",
    "query1 += '''(\n",
    "\n",
    "               seetion_id int,\n",
    "               item int,\n",
    "               artist_name text,\n",
    "               song_length float,\n",
    "               song_title text,\n",
    "          PRIMARY KEY(seetion_id,item)     \n",
    "    \n",
    "    )'''\n",
    "\n",
    "\n",
    "try:\n",
    "    session.execute(query1)\n",
    "except Exception as e:\n",
    "    print(e)"
   ]
  },
  {
   "cell_type": "code",
   "execution_count": 17,
   "metadata": {
    "editable": true
   },
   "outputs": [],
   "source": [
    "## another code more readable by using panda \n",
    "## Load the data with INSERT statement for SONGS_ITEMSETTION table\n",
    "df = pd.read_csv(\"event_datafile_new.csv\")\n",
    "query1 = \"INSERT INTO SONGS_ITEMSETTION (seetion_id,item,artist_name,song_length,song_title)\"\n",
    "query1 =query1 + \"VALUES(%s, %s, %s, %s, %s)\"\n",
    "for index, row in df.iterrows():\n",
    "    \n",
    "    try:\n",
    "        session.execute(query1, (row.sessionId,\n",
    "                                 row.itemInSession,\n",
    "                                 row.artist,\n",
    "                                 row.length,\n",
    "                                 row.song)\n",
    "                       )\n",
    "    except Exception as e:\n",
    "        print(e)\n",
    "        "
   ]
  },
  {
   "cell_type": "code",
   "execution_count": 18,
   "metadata": {
    "editable": true,
    "scrolled": true
   },
   "outputs": [
    {
     "name": "stdout",
     "output_type": "stream",
     "text": [
      "Row(artist_name='Faithless', song_title='Music Matters (Mark Knight Dub)', song_length=495.30731201171875)\n"
     ]
    }
   ],
   "source": [
    "## select statment to answer question 1\n",
    "\n",
    "query1= \"\"\"\n",
    "SELECT\n",
    "    artist_name,\n",
    "    song_title,\n",
    "    song_length\n",
    "FROM \n",
    "  SONGS_ITEMSETTION\n",
    "WHERE \n",
    "    seetion_id = 338   \n",
    "AND \n",
    "    item = 4\n",
    "\"\"\"\n",
    "try:\n",
    "    records = session.execute(query1)\n",
    "except Exception as e:\n",
    "    print(e)\n",
    "    \n",
    "for row in records:\n",
    "    print(row)"
   ]
  },
  {
   "cell_type": "code",
   "execution_count": 19,
   "metadata": {
    "editable": true
   },
   "outputs": [],
   "source": [
    "##This statement creates the songs_playlist with a primary key ((session_id,userid),item ) to answer the question 2\n",
    "##As the primary key has two components, the first component is considered a partition key \"session_id,userid\"\n",
    "##and the second component becomes the cluster key \"item\"\n",
    "## we couldnot appling  the filters in the question without using partion keys\n",
    "##Clustering columns order data within a partition\n",
    "query2 = \"CREATE TABLE IF NOT EXISTS songs_playlist\"\n",
    "query2 += '''(\n",
    "\n",
    "               sesstion_id int,\n",
    "               userid int,\n",
    "               item int,\n",
    "               artist_name text,\n",
    "               song_title text,\n",
    "               first_name text,\n",
    "               last_name text,\n",
    "          PRIMARY KEY((sesstion_id,userid),item)   \n",
    "    \n",
    "    )'''\n",
    "try:\n",
    "    session.execute(query2)\n",
    "except Exception as e:\n",
    "    print(e)"
   ]
  },
  {
   "cell_type": "code",
   "execution_count": 20,
   "metadata": {
    "editable": true
   },
   "outputs": [],
   "source": [
    "## Load the data with INSERT statement for songs_playlist table\n",
    "df = pd.read_csv(\"event_datafile_new.csv\")\n",
    "query2 = \"INSERT INTO songs_playlist (sesstion_id,userid,item,artist_name,song_title,first_name,last_name)\"\n",
    "query2 =query2 + \"VALUES(%s, %s, %s, %s, %s, %s, %s)\"\n",
    "for index, row in df.iterrows():\n",
    "    \n",
    "    try:\n",
    "        session.execute(query2, (row.sessionId,\n",
    "                                 row.userId,\n",
    "                                 row.itemInSession,\n",
    "                                 row.artist,\n",
    "                                 row.song,\n",
    "                                 row.firstName,\n",
    "                                 row.lastName)\n",
    "                                \n",
    "                       )\n",
    "    except Exception as e:\n",
    "        print(e)\n",
    "        \n"
   ]
  },
  {
   "cell_type": "code",
   "execution_count": 21,
   "metadata": {
    "editable": true
   },
   "outputs": [
    {
     "name": "stdout",
     "output_type": "stream",
     "text": [
      "Row(artist_name='Lonnie Gordon', song_title='Catch You Baby (Steve Pitron & Max Sanna Radio Edit)', first_name='Sylvie', last_name='Cruz')\n",
      "Row(artist_name='Sebastien Tellier', song_title='Kilometer', first_name='Sylvie', last_name='Cruz')\n",
      "Row(artist_name='Three Drives', song_title='Greece 2000', first_name='Sylvie', last_name='Cruz')\n",
      "Row(artist_name='Down To The Bone', song_title=\"Keep On Keepin' On\", first_name='Sylvie', last_name='Cruz')\n"
     ]
    }
   ],
   "source": [
    "### select statment to answer question 2\n",
    "\n",
    "query2= \"\"\"\n",
    "SELECT\n",
    "\n",
    "   artist_name,\n",
    "   song_title,\n",
    "   first_name,\n",
    "   last_name\n",
    "   \n",
    "   \n",
    "FROM \n",
    "  songs_playlist\n",
    "WHERE \n",
    "     userid= 10\n",
    "AND \n",
    "     sesstion_id= 182\n",
    "ORDER BY\n",
    "     item DESC\n",
    "\n",
    "\n",
    "\"\"\"\n",
    "try:\n",
    "    records = session.execute(query2)\n",
    "except Exception as e:\n",
    "    print(e)\n",
    "    \n",
    "for row in records:\n",
    "    print(row)"
   ]
  },
  {
   "cell_type": "code",
   "execution_count": 22,
   "metadata": {
    "editable": true
   },
   "outputs": [],
   "source": [
    "##This statement creates the SONGS_USERS with a primary key (song_title,userid to answer the question 3\n",
    "##As the primary key has two components, the first component is considered a partition key \"song_title\"\n",
    "##and the second component becomes the cluster key \"userid\"\n",
    "## we couldnot appling  the filters in the question without using partion keys\n",
    "##Clustering columns order data within a partition\n",
    "query3 = \"CREATE TABLE IF NOT EXISTS SONGS_USERS\"\n",
    "query3 += '''(\n",
    "\n",
    "               song_title text,\n",
    "               userid int,\n",
    "               first_name text,\n",
    "               last_name text,\n",
    "          PRIMARY KEY(song_title,userid)     \n",
    "    \n",
    "    )'''\n",
    "try:\n",
    "    session.execute(query3)\n",
    "except Exception as e:\n",
    "    print(e)"
   ]
  },
  {
   "cell_type": "code",
   "execution_count": 23,
   "metadata": {
    "editable": true
   },
   "outputs": [],
   "source": [
    "## Load the data with INSERT statement for SONGS_USERS table\n",
    "\n",
    "df = pd.read_csv(\"event_datafile_new.csv\")\n",
    "query3 = \"INSERT INTO SONGS_USERS (song_title,userid,first_name,last_name)\"\n",
    "query3 =query3 + \"VALUES(%s, %s, %s, %s)\"\n",
    "for index, row in df.iterrows():\n",
    "    \n",
    "    try:\n",
    "        session.execute(query3, (row.song,\n",
    "                                 row.userId,\n",
    "                                 row.firstName,\n",
    "                                 row.lastName)\n",
    "                       )\n",
    "    except Exception as e:\n",
    "        print(e)\n",
    "        "
   ]
  },
  {
   "cell_type": "code",
   "execution_count": 25,
   "metadata": {
    "editable": true
   },
   "outputs": [
    {
     "name": "stdout",
     "output_type": "stream",
     "text": [
      "Row(userid=29, first_name='Jacqueline', last_name='Lynch')\n",
      "Row(userid=80, first_name='Tegan', last_name='Levine')\n",
      "Row(userid=95, first_name='Sara', last_name='Johnson')\n"
     ]
    }
   ],
   "source": [
    "## select statment to answer question 3\n",
    "\n",
    "query3= \"\"\"\n",
    "SELECT\n",
    "\n",
    "    userid,\n",
    "   first_name,\n",
    "   last_name\n",
    "   \n",
    "FROM \n",
    "  SONGS_USERS\n",
    "WHERE \n",
    "     song_title= 'All Hands Against His Own'   \n",
    "\n",
    "\n",
    "\"\"\"\n",
    "try:\n",
    "    records = session.execute(query3)\n",
    "except Exception as e:\n",
    "    print(e)\n",
    "    \n",
    "for row in records:\n",
    "    print(row)"
   ]
  },
  {
   "cell_type": "code",
   "execution_count": 26,
   "metadata": {
    "editable": true
   },
   "outputs": [],
   "source": [
    "##drop tables in KEYSPACE\n",
    "\n",
    "query = \"drop table IF EXISTS SONGS_ITEMSETTION\"\n",
    "try:\n",
    "    rows = session.execute(query)\n",
    "except Exception as e:\n",
    "    print(e)\n",
    "\n",
    "query = \"drop table IF EXISTS  songs_playlist\"\n",
    "try:\n",
    "    rows = session.execute(query)\n",
    "except Exception as e:\n",
    "    print(e)\n",
    "\n",
    "query = \"drop table IF EXISTS  SONGS_USERS\"\n",
    "try:\n",
    "    rows = session.execute(query)\n",
    "except Exception as e:\n",
    "    print(e)"
   ]
  },
  {
   "cell_type": "code",
   "execution_count": 56,
   "metadata": {
    "editable": true
   },
   "outputs": [],
   "source": [
    "session.shutdown()\n",
    "cluster.shutdown()"
   ]
  },
  {
   "cell_type": "code",
   "execution_count": null,
   "metadata": {
    "editable": true
   },
   "outputs": [],
   "source": []
  },
  {
   "cell_type": "code",
   "execution_count": null,
   "metadata": {
    "editable": true
   },
   "outputs": [],
   "source": []
  }
 ],
 "metadata": {
  "kernelspec": {
   "display_name": "Python 3",
   "language": "python",
   "name": "python3"
  },
  "language_info": {
   "codemirror_mode": {
    "name": "ipython",
    "version": 3
   },
   "file_extension": ".py",
   "mimetype": "text/x-python",
   "name": "python",
   "nbconvert_exporter": "python",
   "pygments_lexer": "ipython3",
   "version": "3.6.3"
  }
 },
 "nbformat": 4,
 "nbformat_minor": 4
}
